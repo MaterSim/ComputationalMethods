{
 "cells": [
  {
   "cell_type": "markdown",
   "metadata": {
    "id": "-0BoprJbtLo6"
   },
   "source": [
    "<div align=\"center\">\n",
    "\n",
    "# MEGR7172/8172\n",
    "\n",
    "### Computational Methods (Fall 2025)\n",
    "### Duke 227, Tu/Th 08:30 - 09:45 pm\n",
    "\n",
    "</div>"
   ]
  },
  {
   "cell_type": "markdown",
   "metadata": {
    "id": "7jPDQa5VtLo-"
   },
   "source": [
    "# 7. Linear Algebra 1\n",
    "Linear algebra is a branch of mathematics that studies vectors, vector spaces, linear transformations, and systems of linear equations. It is foundational for many areas in science and engineering, including data science, machine learning, physics, and computer graphics.\n",
    "\n",
    "## 7.1 Scalars, Vectors, and Matrices\n",
    "- *Scalar*: A single number.  \n",
    "- *Vector*: An ordered list of numbers, often representing a point or direction in space.  \n",
    "- *Matrix*: A rectangular array of numbers, representing a linear transformation or a system of equations."
   ]
  },
  {
   "cell_type": "code",
   "execution_count": 5,
   "metadata": {
    "id": "wiDXjc0ktLo-",
    "outputId": "3779669a-dc70-4b9d-9ed9-7a0dcc5bd61a"
   },
   "outputs": [
    {
     "name": "stdout",
     "output_type": "stream",
     "text": [
      "Scalar: 5\n",
      "Vector: [2 4 6]\n",
      "Matrix:\n",
      " [[1 2]\n",
      " [3 4]]\n"
     ]
    }
   ],
   "source": [
    "import numpy as np\n",
    "\n",
    "# Scalar: a single number\n",
    "scalar = 5\n",
    "print(\"Scalar:\", scalar)\n",
    "\n",
    "# Vector: a 1-dimensional array of numbers\n",
    "vector = np.array([2, 4, 6])\n",
    "print(\"Vector:\", vector)\n",
    "\n",
    "# Matrix: a 2-dimensional array of numbers\n",
    "matrix = np.array([[1, 2], [3, 4]])\n",
    "print(\"Matrix:\\n\", matrix)"
   ]
  },
  {
   "cell_type": "markdown",
   "metadata": {},
   "source": [
    "## 7.2 Vector Operations\n",
    "\n",
    "Vector operations are fundamental in linear algebra and include:\n",
    "\n",
    "- **Addition:** Adding two vectors of the same size element-wise.\n",
    "- **Subtraction:** Subtracting one vector from another element-wise.\n",
    "- **Scalar Multiplication:** Multiplying each element of a vector by a scalar.\n",
    "- **Dot Product:** The sum of the products of corresponding elements of two vectors. It results in a scalar.\n",
    "\n",
    "Example using the `vector` variable:\n",
    "- Addition: `vector + np.array([1, 1, 1])`\n",
    "- Scalar multiplication: `2 * vector`\n",
    "- Dot product: `np.dot(vector, np.array([1, 0, 1]))`"
   ]
  },
  {
   "cell_type": "code",
   "execution_count": null,
   "metadata": {
    "id": "ggjn4kWstLpD"
   },
   "outputs": [
    {
     "name": "stdout",
     "output_type": "stream",
     "text": [
      "vec_a + vec_b [1.13336921 0.88089878 0.81358427 1.06272783 1.03309388]\n",
      "vec_a - vec_b [-0.39169593 -0.87733695  0.77123808 -0.50281377  0.10832391]\n",
      "2 * vec_a [0.74167328 0.00356183 1.58482234 0.55991406 1.14141779]\n",
      "Dot product 0.784147857235728\n"
     ]
    }
   ],
   "source": [
    "vec_a = np.random.random(5)\n",
    "vec_b = np.random.random(5)\n",
    "\n",
    "print('vec_a + vec_b', vec_a + vec_b)\n",
    "print('vec_a - vec_b', vec_a - vec_b)\n",
    "print('2 * vec_a', 2 * vec_a)\n",
    "print('Dot product', np.dot(vec_a, vec_b), vec_a @ vec_b)"
   ]
  },
  {
   "cell_type": "markdown",
   "metadata": {},
   "source": [
    "Questions:\n",
    "1. What is the geometric interpretation of dot product between two vectors?\n",
    "2. Do you have any other kinds of multiplications?\n",
    "    - **Cross Product:** For 3D vectors, the cross product produces a vector perpendicular to both input vectors, e.g., `np.cross(a, b)`\n",
    "    - **Element-wise Product:** Multiplies corresponding elements of two vectors or matrices, e.g., `a * b`.\n",
    "    - **Outer Product:** Produces a matrix from two vectors, where each element is the product of elements from both vector, e.g., `np.outer(a, b)`.\n"
   ]
  },
  {
   "cell_type": "markdown",
   "metadata": {},
   "source": [
    "## 7.3 Matrix and its Operations\n",
    "\n",
    "A **matrix** is a rectangular array of numbers arranged in rows and columns. Matrices are used to represent linear transformations, systems of equations, and data in various fields.\n",
    "\n",
    "**Common Matrix Operations:**\n",
    "\n",
    "- **Addition/Subtraction:** Matrices of the same shape can be added or subtracted element-wise.\n",
    "- **Scalar Multiplication:** Each element of a matrix is multiplied by a scalar.\n",
    "- **Matrix Multiplication:** Combines two matrices to produce a new matrix. The number of columns in the first matrix must equal the number of rows in the second.\n",
    "- **Transpose:** Flips a matrix over its diagonal, switching rows and columns.\n",
    "- **Determinant:** A scalar value that can be computed from a square matrix, useful for solving systems and understanding invertibility.\n",
    "- **Inverse:** The matrix that, when multiplied with the original, yields the identity matrix (only for square, non-singular matrices).\n",
    "\n",
    "**Examples using the `matrix` variable:**\n",
    "- Addition: `matrix + np.array([[5, 6], [7, 8]])`\n",
    "- Scalar multiplication: `2 * matrix`\n",
    "- Matrix multiplication: `matrix @ np.array([[5, 6], [7, 8]])`\n",
    "- Transpose: `matrix.T`\n",
    "- Determinant: `np.linalg.det(matrix)`\n",
    "- Inverse: `np.linalg.inv(matrix)` (if the matrix is invertible)"
   ]
  },
  {
   "cell_type": "code",
   "execution_count": 20,
   "metadata": {},
   "outputs": [
    {
     "name": "stdout",
     "output_type": "stream",
     "text": [
      "Matrix:\n",
      " [[1 2]\n",
      " [3 4]]\n",
      "\n",
      "Addition:\n",
      " [[ 6  8]\n",
      " [10 12]]\n",
      "\n",
      "Scalar Multiplication:\n",
      " [[2 4]\n",
      " [6 8]]\n",
      "\n",
      "Multiplication:\n",
      " [[19 22]\n",
      " [43 50]]\n",
      "\n",
      "Transpose:\n",
      " [[1 3]\n",
      " [2 4]]\n",
      "\n",
      "Determinant: -2.0000000000000004\n",
      "\n",
      "Inverse:\n",
      " [[-2.   1. ]\n",
      " [ 1.5 -0.5]]\n"
     ]
    }
   ],
   "source": [
    "# Example Matrix and operations\n",
    "m1 = np.array([[1, 2], [3, 4]])\n",
    "m2 = np.array([[5, 6], [7, 8]])\n",
    "print(\"Matrix:\\n\", m1)\n",
    "\n",
    "print(\"\\nAddition:\\n\", m1 + m2)\n",
    "print(\"\\nScalar Multiplication:\\n\", 2 * m1)\n",
    "print(\"\\nMultiplication:\\n\", m1 @ m2)\n",
    "print(\"\\nTranspose:\\n\", m1.T)\n",
    "print(\"\\nDeterminant:\", np.linalg.det(m1))\n",
    "print(\"\\nInverse:\\n\", np.linalg.inv(m1))\n"
   ]
  },
  {
   "cell_type": "markdown",
   "metadata": {},
   "source": [
    "Questions:\n",
    "1. What is the geometric interpretation of determinant?\n",
    "2. In addtion to the standard `m1 @ m2`, one also uses `m1 * m2`. Check the differences and list the application secenarios for both cases. \n"
   ]
  },
  {
   "cell_type": "markdown",
   "metadata": {},
   "source": [
    "## 7.4 Eigenvalues and Eigenvectors\n",
    "\n",
    "**Eigenvalues** and **eigenvectors** are fundamental concepts in linear algebra, especially in the study of linear transformations and matrices.\n",
    "\n",
    "- **Eigenvector:** A nonzero vector that only changes by a scalar factor when a linear transformation is applied.\n",
    "- **Eigenvalue:** The scalar factor by which the eigenvector is scaled.\n",
    "\n",
    "Mathematically, for a square matrix $A$, if there exists a vector $v$ and a scalar $\\lambda$ such that:\n",
    "$$\n",
    "A v = \\lambda v\n",
    "$$\n",
    "then $v$ is an eigenvector of $A$, and $\\lambda$ is the corresponding eigenvalue.\n",
    "\n",
    "**Applications:**\n",
    "- Principal Component Analysis (PCA) in data science\n",
    "- Stability analysis in engineering\n",
    "- Quantum mechanics\n",
    "- Google's PageRank algorithm"
   ]
  },
  {
   "cell_type": "code",
   "execution_count": 22,
   "metadata": {},
   "outputs": [
    {
     "name": "stdout",
     "output_type": "stream",
     "text": [
      "Eigenvalues: [-0.37228132  5.37228132]\n",
      "Eigenvectors:\n",
      " [[-0.82456484 -0.41597356]\n",
      " [ 0.56576746 -0.90937671]]\n"
     ]
    }
   ],
   "source": [
    "eigvals, eigvecs = np.linalg.eig(m1)\n",
    "print(\"Eigenvalues:\", eigvals)\n",
    "print(\"Eigenvectors:\\n\", eigvecs)"
   ]
  },
  {
   "cell_type": "markdown",
   "metadata": {},
   "source": [
    "Questions:\n",
    "1. Compute the eigenvalues for a matrix of $m1$:\n",
    "\n",
    "    The eigenvalues of $m1 = \\begin{bmatrix} 1 & 2 \\\\ 3 & 4 \\end{bmatrix}$ are:\n",
    "    $$\n",
    "    \\text{eigvals} = [-0.372, \\; 5.372]\n",
    "    $$\n",
    "\n",
    "2. Explain the geometric meaning of eigenvalue and eigenvectors:\n",
    "\n",
    "    - **Eigenvectors** indicate directions in which a linear transformation acts by stretching or compressing, but not rotating.\n",
    "    - **Eigenvalues** represent the factor by which the eigenvector is scaled during the transformation.\n",
    "    - Geometrically, applying the matrix to its eigenvector results in a new vector pointing in the same direction, scaled by the eigenvalue."
   ]
  },
  {
   "cell_type": "code",
   "execution_count": null,
   "metadata": {},
   "outputs": [],
   "source": []
  }
 ],
 "metadata": {
  "colab": {
   "provenance": []
  },
  "kernelspec": {
   "display_name": "ost",
   "language": "python",
   "name": "python3"
  },
  "language_info": {
   "codemirror_mode": {
    "name": "ipython",
    "version": 3
   },
   "file_extension": ".py",
   "mimetype": "text/x-python",
   "name": "python",
   "nbconvert_exporter": "python",
   "pygments_lexer": "ipython3",
   "version": "3.9.13"
  }
 },
 "nbformat": 4,
 "nbformat_minor": 0
}
