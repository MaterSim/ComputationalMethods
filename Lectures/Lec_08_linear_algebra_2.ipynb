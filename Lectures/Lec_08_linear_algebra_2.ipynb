{
 "cells": [
  {
   "cell_type": "markdown",
   "metadata": {
    "id": "-0BoprJbtLo6"
   },
   "source": [
    "<div align=\"center\">\n",
    "\n",
    "# MEGR7172/8172\n",
    "\n",
    "### Computational Methods (Fall 2025)\n",
    "### Duke 227, Tu/Th 08:30 - 09:45 pm\n",
    "\n",
    "</div>"
   ]
  },
  {
   "cell_type": "markdown",
   "metadata": {
    "id": "7jPDQa5VtLo-"
   },
   "source": [
    "# 8. Linear Algebra 2\n",
    "\n",
    "\n",
    "## 8.1 Systems of Linear Equations & Matrix Inverses\n",
    "\n",
    "Solving systems of linear equations is a central application of linear algebra. Such systems can be written in matrix form as:\n",
    "\n",
    "$$\n",
    "A\\mathbf{x} = \\mathbf{b}\n",
    "$$\n",
    "\n",
    "where:\n",
    "- $A$ is a matrix of coefficients,\n",
    "- $\\mathbf{x}$ is a column vector of variables,\n",
    "- $\\mathbf{b}$ is a column vector of constants.\n",
    "\n",
    "### Methods for Solving $A\\mathbf{x} = \\mathbf{b}$\n",
    "\n",
    "- **Matrix Inverse Method:** If $A$ is invertible, the solution is $\\mathbf{x} = A^{-1}\\mathbf{b}$.\n",
    "- **Gaussian Elimination:** Systematically eliminates variables to reduce the system to row-echelon form, making it easier to solve.\n",
    "- **LU Decomposition:** Factorizes $A$ into a lower triangular matrix $L$ and an upper triangular matrix $U$, so that $A = LU$. This simplifies solving multiple systems with the same $A$ but different $\\mathbf{b}$.\n",
    "\n",
    "### Is there a unique solution?\n",
    "\n",
    "- **Unique Solution:** Exists if $A$ is square and invertible (i.e., $\\det(A) \\neq 0$).\n",
    "- **No Solution:** Occurs if the system is inconsistent (e.g., parallel equations).\n",
    "- **Infinite Solutions:** Occur if the system is underdetermined (more variables than independent equations).\n",
    "\n",
    "**Summary Table:**\n",
    "\n",
    "| Condition on $A$         | Solution Type         |\n",
    "|--------------------------|----------------------|\n",
    "| $\\det(A) \\neq 0$         | Unique solution      |\n",
    "| $\\det(A) = 0$, inconsistent | No solution      |\n",
    "| $\\det(A) = 0$, dependent    | Infinite solutions |\n",
    "\n",
    "Understanding these concepts is crucial for applications in engineering, physics, computer science, and data analysis."
   ]
  },
  {
   "cell_type": "code",
   "execution_count": 8,
   "metadata": {
    "id": "wiDXjc0ktLo-",
    "outputId": "3779669a-dc70-4b9d-9ed9-7a0dcc5bd61a"
   },
   "outputs": [
    {
     "name": "stdout",
     "output_type": "stream",
     "text": [
      "Solution x: [2.2 3.6]\n"
     ]
    }
   ],
   "source": [
    "import numpy as np\n",
    "\n",
    "# Example: Solving a system of linear equations using matrix inverse\n",
    "# Coefficient matrix A and constant vector b\n",
    "A = np.array([[2, 1], [1, 3]])\n",
    "b = np.array([8, 13])\n",
    "\n",
    "# Solve for x using the inverse method: x = A^{-1}b\n",
    "x = np.linalg.inv(A) @ b\n",
    "\n",
    "print(\"Solution x:\", x)\n",
    "# This solves the system:\n",
    "# 2x1 + x2 = 8\n",
    "# x1 + 3x2 = 13"
   ]
  },
  {
   "cell_type": "code",
   "execution_count": 9,
   "metadata": {},
   "outputs": [
    {
     "name": "stdout",
     "output_type": "stream",
     "text": [
      "Upper triangular matrix after elimination:\n",
      " [[2.  1.  8. ]\n",
      " [0.  2.5 9. ]]\n",
      "Solution from Gaussian elimination: x = 2.2 , y = 3.6\n"
     ]
    }
   ],
   "source": [
    "# Gaussian Elimination Example\n",
    "\n",
    "# System: 2x + y = 8, x + 3y = 13\n",
    "# Augmented matrix:\n",
    "# [2 1 | 8]\n",
    "# [1 3 | 13]\n",
    "\n",
    "# Step 1: Convert to upper triangular form\n",
    "A_aug = np.array([[2., 1., 8.],\n",
    "                  [1., 3., 13.]])\n",
    "\n",
    "# Eliminate x from the second row\n",
    "factor = A_aug[1,0] / A_aug[0,0]\n",
    "A_aug[1] = A_aug[1] - factor * A_aug[0]\n",
    "\n",
    "print(\"Upper triangular matrix after elimination:\\n\", A_aug)\n",
    "\n",
    "# Step 2: Back substitution\n",
    "y = A_aug[1,2] / A_aug[1,1]\n",
    "x = (A_aug[0,2] - A_aug[0,1]*y) / A_aug[0,0]\n",
    "\n",
    "print(\"Solution from Gaussian elimination: x =\", x, \", y =\", y)"
   ]
  },
  {
   "cell_type": "code",
   "execution_count": 10,
   "metadata": {},
   "outputs": [
    {
     "name": "stdout",
     "output_type": "stream",
     "text": [
      "Matrix A:\n",
      " [[2 1]\n",
      " [1 3]]\n",
      "\n",
      "Permutation matrix P:\n",
      " [[1. 0.]\n",
      " [0. 1.]]\n",
      "\n",
      "Lower triangular matrix L:\n",
      " [[1.  0. ]\n",
      " [0.5 1. ]]\n",
      "\n",
      "Upper triangular matrix U:\n",
      " [[2.  1. ]\n",
      " [0.  2.5]]\n",
      "\n",
      "Check PA = LU:\n",
      " True\n"
     ]
    }
   ],
   "source": [
    "# LU Decomposition Example\n",
    "from scipy.linalg import lu\n",
    "\n",
    "# Perform LU decomposition of matrix A\n",
    "P, L, U = lu(A)\n",
    "\n",
    "print(\"Matrix A:\\n\", A)\n",
    "print(\"\\nPermutation matrix P:\\n\", P)\n",
    "print(\"\\nLower triangular matrix L:\\n\", L)\n",
    "print(\"\\nUpper triangular matrix U:\\n\", U)\n",
    "\n",
    "# Verify that PA = LU\n",
    "print(\"\\nCheck PA = LU:\\n\", np.allclose(P @ A, L @ U))"
   ]
  },
  {
   "cell_type": "markdown",
   "metadata": {},
   "source": [
    "## 8.2 Matrix Diagonalization\n",
    "\n",
    "Matrix diagonalization is a powerful technique in linear algebra that leverages eigenvalues and eigenvectors to simplify complex matrix operations.\n",
    "\n",
    "### Diagonalization Using Eigenvalues and Eigenvectors\n",
    "\n",
    "A square matrix $A$ is **diagonalizable** if it can be written as:\n",
    "$$\n",
    "A = PDP^{-1}\n",
    "$$\n",
    "where:\n",
    "- $P$ is a matrix whose columns are the eigenvectors of $A$,\n",
    "- $D$ is a diagonal matrix whose diagonal entries are the corresponding eigenvalues of $A$.\n",
    "\n",
    "**Steps to Diagonalize a Matrix:**\n",
    "1. **Find the eigenvalues** of $A$ by solving $\\det(A - \\lambda I) = 0$.\n",
    "2. **Find the eigenvectors** for each eigenvalue by solving $(A - \\lambda I)\\mathbf{v} = 0$.\n",
    "3. **Form matrix $P$** using the eigenvectors as columns.\n",
    "4. **Form diagonal matrix $D$** with the eigenvalues on the diagonal.\n",
    "\n",
    "### Why Diagonalization Matters\n",
    "\n",
    "- **Matrix Powers:**  \n",
    "    Diagonalization simplifies the computation of matrix powers:\n",
    "    $$\n",
    "    A^n = (PDP^{-1})^n = PD^nP^{-1}\n",
    "    $$\n",
    "    Since $D$ is diagonal, $D^n$ is easy to compute (just raise each diagonal entry to the $n$th power).\n",
    "\n",
    "- **Solving Differential Equations:**  \n",
    "    Systems of linear differential equations with constant coefficients can be solved efficiently by diagonalizing the coefficient matrix.\n",
    "\n",
    "- **Applications:**  \n",
    "    - Principal Component Analysis (PCA)\n",
    "    - Quantum mechanics\n",
    "    - Markov processes\n",
    "    - Stability analysis in engineering\n",
    "\n",
    "Diagonalization provides insight into the structure of a matrix and enables efficient computation in many scientific and engineering problems."
   ]
  },
  {
   "cell_type": "code",
   "execution_count": 11,
   "metadata": {
    "id": "ggjn4kWstLpD"
   },
   "outputs": [
    {
     "name": "stdout",
     "output_type": "stream",
     "text": [
      "Eigenvalues:\n",
      " [1.38196601 3.61803399]\n",
      "\n",
      "Eigenvectors (columns):\n",
      " [[-0.85065081 -0.52573111]\n",
      " [ 0.52573111 -0.85065081]]\n",
      "\n",
      "Reconstructed A from diagonalization:\n",
      " [[2. 1.]\n",
      " [1. 3.]]\n",
      "\n",
      "Is A approximately equal to P D P^{-1}? True\n"
     ]
    }
   ],
   "source": [
    "# Example: Diagonalization of a matrix\n",
    "\n",
    "# Let's diagonalize matrix A\n",
    "eigvals, eigvecs = np.linalg.eig(A)\n",
    "\n",
    "print(\"Eigenvalues:\\n\", eigvals)\n",
    "print(\"\\nEigenvectors (columns):\\n\", eigvecs)\n",
    "\n",
    "# Form the diagonal matrix D from eigenvalues\n",
    "D = np.diag(eigvals)\n",
    "\n",
    "# Form the matrix P from eigenvectors (columns)\n",
    "P = eigvecs\n",
    "\n",
    "# Compute P inverse\n",
    "P_inv = np.linalg.inv(P)\n",
    "\n",
    "# Check that A = P D P^{-1}\n",
    "A_reconstructed = P @ D @ P_inv\n",
    "print(\"\\nReconstructed A from diagonalization:\\n\", A_reconstructed)\n",
    "print(\"\\nIs A approximately equal to P D P^{-1}?\", np.allclose(A, A_reconstructed))"
   ]
  },
  {
   "cell_type": "markdown",
   "metadata": {},
   "source": [
    "## Example: Diagonalizing a Matrix in a Real-World Application\n",
    "\n",
    "Suppose we have a discrete-time population model for two interacting species, where the populations at time $n+1$ depend linearly on the populations at time $n$:\n",
    "\n",
    "$$\n",
    "\\begin{bmatrix}\n",
    "x_{n+1} \\\\\n",
    "y_{n+1}\n",
    "\\end{bmatrix}\n",
    "=\n",
    "A\n",
    "\\begin{bmatrix}\n",
    "x_n \\\\\n",
    "y_n\n",
    "\\end{bmatrix}\n",
    "$$\n",
    "\n",
    "where $A = \\begin{bmatrix} 2 & 1 \\\\ 1 & 3 \\end{bmatrix}$ describes the interaction between the species.\n",
    "\n",
    "### Step 1: Find Eigenvalues and Eigenvectors\n",
    "\n",
    "We already computed the eigenvalues and eigenvectors of $A$ in the previous code cell.\n",
    "\n",
    "### Step 2: Diagonalize $A$\n",
    "\n",
    "Let $P$ be the matrix of eigenvectors and $D$ the diagonal matrix of eigenvalues. Then:\n",
    "\n",
    "$$\n",
    "A = PDP^{-1}\n",
    "$$\n",
    "\n",
    "### Step 3: Application — Predicting Future Populations\n",
    "\n",
    "If the initial populations are $x_0$ and $y_0$, then after $n$ steps:\n",
    "\n",
    "$$\n",
    "\\begin{bmatrix}\n",
    "x_n \\\\\n",
    "y_n\n",
    "\\end{bmatrix}\n",
    "= A^n\n",
    "\\begin{bmatrix}\n",
    "x_0 \\\\\n",
    "y_0\n",
    "\\end{bmatrix}\n",
    "= P D^n P^{-1}\n",
    "\\begin{bmatrix}\n",
    "x_0 \\\\\n",
    "y_0\n",
    "\\end{bmatrix}\n",
    "$$\n",
    "\n",
    "Diagonalization allows us to efficiently compute $A^n$ for large $n$, making it easy to predict long-term population dynamics.\n",
    "\n",
    "---\n",
    "\n",
    "**Summary:**  \n",
    "Diagonalization transforms the problem of repeatedly multiplying by $A$ into simple multiplications by a diagonal matrix, which is computationally efficient and provides insight into the long-term behavior of the system (e.g., which population dominates as $n \\to \\infty$)."
   ]
  },
  {
   "cell_type": "markdown",
   "metadata": {},
   "source": []
  }
 ],
 "metadata": {
  "colab": {
   "provenance": []
  },
  "kernelspec": {
   "display_name": "ost",
   "language": "python",
   "name": "python3"
  },
  "language_info": {
   "codemirror_mode": {
    "name": "ipython",
    "version": 3
   },
   "file_extension": ".py",
   "mimetype": "text/x-python",
   "name": "python",
   "nbconvert_exporter": "python",
   "pygments_lexer": "ipython3",
   "version": "3.9.13"
  }
 },
 "nbformat": 4,
 "nbformat_minor": 0
}
